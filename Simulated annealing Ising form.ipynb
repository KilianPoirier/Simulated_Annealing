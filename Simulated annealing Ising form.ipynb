{
 "cells": [
  {
   "cell_type": "markdown",
   "id": "cd0d0ccb",
   "metadata": {},
   "source": [
    "## Importing libraries and define constants"
   ]
  },
  {
   "cell_type": "code",
   "execution_count": 1,
   "id": "be977be9",
   "metadata": {},
   "outputs": [],
   "source": [
    "import numpy as np\n",
    "import matplotlib.pyplot as plt\n",
    "\n",
    "MAX_ITER = int(1e4)"
   ]
  },
  {
   "cell_type": "markdown",
   "id": "855db051",
   "metadata": {},
   "source": [
    "## Functions definition"
   ]
  },
  {
   "cell_type": "code",
   "execution_count": 2,
   "id": "683a3133",
   "metadata": {},
   "outputs": [],
   "source": [
    "def compute_energy(number_set, partition, A=1):\n",
    "    \"\"\"\n",
    "    Cost function following Ising formulation of the energy\n",
    "    \n",
    "    :number_set: Set of numbers to partition\n",
    "    :partition: =+1,-1 Set of Ising spin variables associated to the number in n    \n",
    "    :A: Positive constant, typically set to 1\n",
    "    :return: Energy of the system\n",
    "    \"\"\"\n",
    "    return A*(np.sum(number_set*partition))**2\n",
    "\n",
    "\n",
    "def test_metropolis_crit(number_set, current_partition, candidate_partition, temperature):\n",
    "    \"\"\"\n",
    "    Function computing the metropolis criterion,\n",
    "    that compares cost function at the current and the candidate points\n",
    "    receives partitions as input\n",
    "    \n",
    "    :number_set: Set of numbers to partition\n",
    "    :current_partition: Current point(partition) to compare\n",
    "    :candidate_partition: Candidate point(partition) to compare\n",
    "    :return: True if the candidate is accepted, False if rejected\n",
    "    \"\"\"\n",
    "    current_energy = compute_energy(number_set, current_partition)\n",
    "    candidate_energy = compute_energy(number_set, candidate_partition)\n",
    "    metropolis_crit = np.exp(-(candidate_energy-current_energy)/temperature)\n",
    "    acceptance_probability = np.random.uniform()\n",
    "    if (acceptance_probability < metropolis_crit):\n",
    "        return True\n",
    "    return False\n",
    "\n",
    "\n",
    "def get_temperature(temperature_init, iteration, cooling_scheme='T0/(1+t)', K = 0.01):\n",
    "    \"\"\"\n",
    "    Function defining the temperature cooling scheme\n",
    "    \n",
    "    :temperature_init: Current temperature\n",
    "    :K: Time scaling coefficient\n",
    "    :iteration: Current time step\n",
    "    :cooling_scheme: Temperature behaviour in time\n",
    "    :return: New temperature\n",
    "    \"\"\"\n",
    "    if cooling_scheme == 'T0/(1+t)':\n",
    "        temperature_new = temperature_init/(K*iteration + 1)\n",
    "    elif cooling_scheme == 'T0/sqrt(1+t)':\n",
    "        temperature_new = temperature_init/np.sqrt(K*iteration + 1)\n",
    "    else:        \n",
    "        temperature_new = temperature_init/(K*iteration + 1)\n",
    "    return temperature_new\n",
    "\n",
    "\n",
    "def init_random_candidate(set_size):\n",
    "    \"\"\"\n",
    "    Find a random candidate partition to initalize the Ising spins (partitions)\n",
    "    Done by randomly selecting a possible partition\n",
    "    \n",
    "    :set_size: length of the number set\n",
    "    :return: Candidate partition (random)\n",
    "    \"\"\"\n",
    "    random_0_1 = np.random.randint(low=0, high=2, size=set_size)\n",
    "    random_candidate_partition = 2*random_0_1-np.ones(set_size, dtype='I')\n",
    "    return random_candidate_partition\n",
    "\n",
    "\n",
    "def find_candidate(current_partition):\n",
    "    \"\"\"\n",
    "    Find a new candidate partition to update the current one\n",
    "    Done by randomly switching the spin of one number in the total set\n",
    "    \n",
    "    :current_partition: Current partition\n",
    "    :return: Candidate partition\n",
    "    \"\"\"\n",
    "    index_switch = np.random.randint(low=0, high=len(current_partition))\n",
    "    candidate_partition = current_partition.copy()\n",
    "    candidate_partition[index_switch] *= -1\n",
    "    return candidate_partition\n",
    "\n",
    "\n",
    "def record_energy(energy, energy_list=None):\n",
    "    \"\"\"\n",
    "    Record the energy in a list, if the list doesn't exist, creates one\n",
    "    \n",
    "    :energy: Energy of the system to record\n",
    "    :energy_list: List of the energies in each cycles\n",
    "    \"\"\"\n",
    "    if energy_list is None:\n",
    "        energy_list = []\n",
    "    energy_list.append(energy)\n",
    "    \n",
    "\n",
    "def simulate_loop_annealing(number_set, max_iter, temperature_init, cooling_scheme, K, current_partition, energy_list):\n",
    "    \"\"\"\n",
    "    Performs one annealing loop\n",
    "    Allows us to repeat the annealing process in cycles by restarting at initial temperature\n",
    "    \n",
    "    :number_set: Set of number to partition\n",
    "    :max_iter: Maximum number of iterations\n",
    "    :temperature_init: Initial temperature\n",
    "    :cooling_scheme: Temperature behaviour in time\n",
    "    :K: Time scaling coefficient\n",
    "    :current_partition: Current partition\n",
    "    :energy_list: List of the recorded energies\n",
    "    :return: Final partition\n",
    "    \"\"\"\n",
    "    for i in range(max_iter):\n",
    "        temperature = get_temperature(temperature_init, i, 'T0/(1+t)', K)\n",
    "        candidate_partition = find_candidate(current_partition)\n",
    "        candidate_energy = compute_energy(number_set, candidate_partition)\n",
    "        current_energy = compute_energy(number_set, current_partition)\n",
    "        if (candidate_energy < current_energy):\n",
    "            current_partition = candidate_partition\n",
    "        elif test_metropolis_crit(number_set, current_partition, candidate_partition, temperature):\n",
    "            current_partition = candidate_partition\n",
    "        record_energy(compute_energy(number_set, current_partition), energy_list)\n",
    "        if compute_energy(number_set, current_partition) == 0:\n",
    "            return current_partition\n",
    "    return current_partition"
   ]
  },
  {
   "cell_type": "markdown",
   "id": "06632792",
   "metadata": {},
   "source": [
    "## Algorithm"
   ]
  },
  {
   "cell_type": "code",
   "execution_count": 3,
   "id": "3d06cf57",
   "metadata": {},
   "outputs": [],
   "source": [
    "temperature_init = 1000\n",
    "k = 0.01\n",
    "cooling_scheme = 'T0/(1+t)'\n",
    "#number_set = [6, 5, 4, 7, 8]\n",
    "number_set = list(np.random.randint(low = 1,high=100,size=50))\n",
    "\n",
    "current_partition = init_random_candidate(len(number_set))\n",
    "energy_list = []\n",
    "record_energy(compute_energy(number_set, current_partition), energy_list)\n",
    "\n",
    "current_partition = simulate_loop_annealing(number_set, MAX_ITER, temperature_init, cooling_scheme, k, current_partition, energy_list)"
   ]
  },
  {
   "cell_type": "code",
   "execution_count": 4,
   "id": "768d338a-5d6b-4451-badb-ebc4b29bd5b1",
   "metadata": {},
   "outputs": [
    {
     "name": "stdout",
     "output_type": "stream",
     "text": [
      "9\n"
     ]
    },
    {
     "data": {
      "image/png": "[encoded data removed]",
      "text/plain": [
       "<Figure size 432x288 with 1 Axes>"
      ]
     },
     "metadata": {
      "needs_background": "light"
     },
     "output_type": "display_data"
    }
   ],
   "source": [
    "print(energy_list[-1])\n",
    "plt.plot(range(len(energy_list)), energy_list)\n",
    "plt.show()"
   ]
  },
  {
   "cell_type": "code",
   "execution_count": null,
   "id": "e64ebe19-4d4e-487f-81a2-1dfa458dfc3c",
   "metadata": {},
   "outputs": [],
   "source": [
    "n_repeat = 30\n",
    "cooling_scheme = 'T0/(1+t)'\n",
    "convergence_step = list(np.zeros(n_repeat))\n",
    "convergence_energy = list(np.zeros(n_repeat))\n",
    "k_values = np.logspace(-5, 1, 30)\n",
    "k_step_list = []\n",
    "k_energy_list = []\n",
    "for k in k_values:\n",
    "    for j in range(n_repeat):\n",
    "        number_set = list(np.random.randint(low = 1,high=20,size=50))\n",
    "        current_partition = init_random_candidate(len(number_set))\n",
    "        energy_list = []\n",
    "        record_energy(compute_energy(number_set, current_partition), energy_list)\n",
    "        current_partition = simulate_loop_annealing(number_set, MAX_ITER, temperature_init, cooling_scheme, k, current_partition, energy_list)\n",
    "        convergence_step[j] = len(energy_list)\n",
    "        convergence_energy[j] = energy_list[-1]\n",
    "    k_step_list.append(np.mean(convergence_step))\n",
    "    k_energy_list.append(np.mean(convergence_energy))"
   ]
  },
  {
   "cell_type": "code",
   "execution_count": null,
   "id": "0a1483c3-cf45-4d5e-b11e-4a5cc80b16f3",
   "metadata": {},
   "outputs": [],
   "source": [
    "plt.figure(figsize=(12,5))\n",
    "plt.semilogx(k_values, k_energy_list)\n",
    "plt.xlabel('Value of K', fontsize=13)\n",
    "plt.ylabel('Final partition energy', fontsize=13)\n",
    "plt.title('Mean energy for different values of K', fontsize=16)\n",
    "plt.show()"
   ]
  },
  {
   "cell_type": "code",
   "execution_count": null,
   "id": "ea77aae3-0e12-42f8-bedb-eb0fa401b851",
   "metadata": {},
   "outputs": [],
   "source": [
    "plt.figure(figsize=(12,5))\n",
    "plt.semilogx(k_values, k_step_list)\n",
    "plt.xlabel('Value of K', fontsize=13)\n",
    "plt.ylabel('Convergence step', fontsize=13)\n",
    "plt.title('Number of iterations for different values of K', fontsize=16)\n",
    "plt.show()"
   ]
  },
  {
   "cell_type": "code",
   "execution_count": null,
   "id": "9b528f3f-868e-4fea-afa1-74414bc70106",
   "metadata": {},
   "outputs": [],
   "source": [
    "n_repeat = 50\n",
    "cooling_scheme = 'T0/sqrt(1+t)'\n",
    "convergence_step = list(np.zeros(n_repeat))\n",
    "convergence_energy = list(np.zeros(n_repeat))\n",
    "k_values = np.logspace(-3, 1, 30)\n",
    "k_step_list = []\n",
    "k_energy_list = []\n",
    "for k in k_values:\n",
    "    for j in range(n_repeat):\n",
    "        number_set = list(np.random.randint(low = 1,high=20,size=50))\n",
    "        current_partition = init_random_candidate(len(number_set))\n",
    "        energy_list = []\n",
    "        record_energy(compute_energy(number_set, current_partition), energy_list)\n",
    "        current_partition = simulate_loop_annealing(number_set, MAX_ITER, temperature_init, cooling_scheme, k, current_partition, energy_list)\n",
    "        convergence_step[j] = len(energy_list)\n",
    "        convergence_energy[j] = energy_list[-1]\n",
    "    k_step_list.append(np.mean(convergence_step))\n",
    "    k_energy_list.append(np.mean(convergence_energy))"
   ]
  },
  {
   "cell_type": "code",
   "execution_count": null,
   "id": "1d85cb3b-d0eb-4cf9-a7cc-35f8dc1c8700",
   "metadata": {},
   "outputs": [],
   "source": [
    "plt.figure(figsize=(12,5))\n",
    "plt.semilogx(k_values, k_energy_list)\n",
    "plt.xlabel('Value of K', fontsize=13)\n",
    "plt.ylabel('Final partition energy', fontsize=13)\n",
    "plt.title('Mean energy for different values of K', fontsize=16)\n",
    "plt.show()"
   ]
  },
  {
   "cell_type": "code",
   "execution_count": null,
   "id": "a8022d7f-78fb-4174-968c-5393e12b6b9f",
   "metadata": {},
   "outputs": [],
   "source": [
    "plt.figure(figsize=(12,5))\n",
    "plt.semilogx(k_values, k_step_list)\n",
    "plt.xlabel('Value of K', fontsize=13)\n",
    "plt.ylabel('Convergence step', fontsize=13)\n",
    "plt.title('Number of iterations for different values of K', fontsize=16)\n",
    "plt.show()"
   ]
  },
  {
   "cell_type": "code",
   "execution_count": null,
   "id": "d07b12c3-5506-40dd-add9-236c88393e91",
   "metadata": {},
   "outputs": [],
   "source": [
    "n_repeat = 50\n",
    "k = 0.01 \n",
    "cooling_scheme = 'T0/(1+t)'\n",
    "convergence_step = list(np.zeros(n_repeat))\n",
    "convergence_energy = list(np.zeros(n_repeat))\n",
    "T_values = np.logspace(1, 4, 30)\n",
    "T_step_list = []\n",
    "T_energy_list = []\n",
    "for T0 in T_values:\n",
    "    for j in range(n_repeat):\n",
    "        number_set = list(np.random.randint(low = 1,high=20,size=50))\n",
    "        current_partition = init_random_candidate(len(number_set))\n",
    "        energy_list = []\n",
    "        record_energy(compute_energy(number_set, current_partition), energy_list)\n",
    "        current_partition = simulate_loop_annealing(number_set, MAX_ITER, temperature_init, cooling_scheme, k, current_partition, energy_list)\n",
    "        convergence_step[j] = len(energy_list)\n",
    "        convergence_energy[j] = energy_list[-1]\n",
    "    T_step_list.append(np.mean(convergence_step))\n",
    "    T_energy_list.append(np.mean(convergence_energy))"
   ]
  },
  {
   "cell_type": "code",
   "execution_count": null,
   "id": "2364a17e-4d47-4b1b-9c99-d374a8ede3e2",
   "metadata": {},
   "outputs": [],
   "source": [
    "plt.figure(figsize=(12,5))\n",
    "plt.plot(T_values, T_energy_list)\n",
    "plt.xlabel('Value of initial temperature', fontsize=13)\n",
    "plt.ylabel('Final partition energy', fontsize=13)\n",
    "plt.title('Mean energy for different values of T0', fontsize=16)\n",
    "plt.show()"
   ]
  },
  {
   "cell_type": "code",
   "execution_count": null,
   "id": "d68bb7c3-6ed9-4862-90ce-5c626710ed32",
   "metadata": {},
   "outputs": [],
   "source": [
    "plt.figure(figsize=(12,5))\n",
    "plt.plot(T_values, T_step_list)\n",
    "plt.xlabel('Value of initial temperature', fontsize=13)\n",
    "plt.ylabel('Convergence step', fontsize=13)\n",
    "plt.title('Number of iterations for different values of T0', fontsize=16)\n",
    "plt.show()"
   ]
  }
 ],
 "metadata": {
  "kernelspec": {
   "display_name": "Python",
   "language": "python",
   "name": "python3"
  },
  "language_info": {
   "codemirror_mode": {
    "name": "ipython",
    "version": 3
   },
   "file_extension": ".py",
   "mimetype": "text/x-python",
   "name": "python",
   "nbconvert_exporter": "python",
   "pygments_lexer": "ipython3",
   "version": "3.8.10"
  }
 },
 "nbformat": 4,
 "nbformat_minor": 5
}
